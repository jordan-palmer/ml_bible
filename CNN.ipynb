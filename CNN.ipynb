{
  "nbformat": 4,
  "nbformat_minor": 0,
  "metadata": {
    "colab": {
      "name": "CNN.ipynb",
      "provenance": [],
      "collapsed_sections": [
        "GEz1nAGGHCZb"
      ],
      "authorship_tag": "ABX9TyPf2cPLn/1kTzK5xhdI/hqQ",
      "include_colab_link": true
    },
    "kernelspec": {
      "name": "python3",
      "display_name": "Python 3"
    },
    "language_info": {
      "name": "python"
    },
    "accelerator": "GPU"
  },
  "cells": [
    {
      "cell_type": "markdown",
      "metadata": {
        "id": "view-in-github",
        "colab_type": "text"
      },
      "source": [
        "<a href=\"https://colab.research.google.com/github/jordan-palmer/ml_bible/blob/main/CNN.ipynb\" target=\"_parent\"><img src=\"https://colab.research.google.com/assets/colab-badge.svg\" alt=\"Open In Colab\"/></a>"
      ]
    },
    {
      "cell_type": "markdown",
      "source": [
        "# 1. Convolutional Neural Net\n",
        "\n",
        "Goal: Understand and generate a CNN to come up with an efficient model for the MNIST dataset\n",
        "\n",
        "Resources: [CNN blog](https://machinelearningmastery.com/how-to-develop-a-convolutional-neural-network-from-scratch-for-mnist-handwritten-digit-classification/)\n",
        "____"
      ],
      "metadata": {
        "id": "PwngNRj-GQ83"
      }
    },
    {
      "cell_type": "markdown",
      "source": [
        "### Imports (boring)\n",
        "____"
      ],
      "metadata": {
        "id": "GEz1nAGGHCZb"
      }
    },
    {
      "cell_type": "code",
      "execution_count": 80,
      "metadata": {
        "id": "P2PCk_65F5WH"
      },
      "outputs": [],
      "source": [
        "import numpy as np\n",
        "import pandas as pd\n",
        "import sklearn\n",
        "from matplotlib import pyplot as plt\n",
        "from sklearn.model_selection import KFold\n",
        "from tensorflow.keras.datasets import mnist\n",
        "from tensorflow.keras.utils import to_categorical\n",
        "from tensorflow.keras.models import Sequential\n",
        "from tensorflow.keras.layers import Conv2D\n",
        "from tensorflow.keras.layers import MaxPooling2D\n",
        "from tensorflow.keras.layers import Dense\n",
        "from tensorflow.keras.layers import Flatten\n",
        "from tensorflow.keras.optimizers import SGD\n",
        "from keras.preprocessing.image import ImageDataGenerator\n",
        "from keras.callbacks import LearningRateScheduler\n",
        "from keras.callbacks import History\n",
        "plt.style.use('ggplot')"
      ]
    },
    {
      "cell_type": "markdown",
      "source": [
        "### Load MNIST dataset\n",
        " \n",
        "What does the input data look like? If you dont know this yourself, how will the machine? ;)\n",
        "____"
      ],
      "metadata": {
        "id": "EB91Gu_IHW8S"
      }
    },
    {
      "cell_type": "code",
      "source": [
        "(trainX, trainy), (testX, testy) = mnist.load_data()\n",
        "# summarize loaded dataset\n",
        "print('Train: X=%s, y=%s' % (trainX.shape, trainy.shape))\n",
        "print('Test: X=%s, y=%s' % (testX.shape, testy.shape))\n",
        "### so we have 9 digits, each 28X28 pixels\n",
        "# plot first few images\n",
        "for i in range(9):\n",
        "\t# define subplot\n",
        "\tplt.subplot(330 + 1 + i)\n",
        "\t# plot raw pixel data\n",
        "\tplt.imshow(trainX[i], cmap=plt.get_cmap('gray'))\n",
        "# show the figure\n",
        "plt.show()"
      ],
      "metadata": {
        "colab": {
          "base_uri": "https://localhost:8080/",
          "height": 300
        },
        "id": "IsP14-2LGAQP",
        "outputId": "f241dc8f-6aa7-4117-a023-9f1837938daa"
      },
      "execution_count": 38,
      "outputs": [
        {
          "output_type": "stream",
          "name": "stdout",
          "text": [
            "Train: X=(60000, 28, 28), y=(60000,)\n",
            "Test: X=(10000, 28, 28), y=(10000,)\n"
          ]
        },
        {
          "output_type": "display_data",
          "data": {
            "image/png": "[encoded data removed]",
            "text/plain": [
              "<Figure size 432x288 with 9 Axes>"
            ]
          },
          "metadata": {}
        }
      ]
    },
    {
      "cell_type": "markdown",
      "source": [
        "### Load data\n",
        "There are a total of 10 classes (0 - 9). Use a one hot encoding for the class element of each sample, transforming the integer into a 10 element binary vector with a 1 for the index of the class value, and 0 values for all other classes `to_categorical`\n",
        "____"
      ],
      "metadata": {
        "id": "oFuLQWwoIiS6"
      }
    },
    {
      "cell_type": "code",
      "source": [
        "def load_dataset():\n",
        "\t# load dataset\n",
        "\t(trainX, trainY), (testX, testY) = mnist.load_data()\n",
        "\t# reshape dataset to have a single channel\n",
        "\ttrainX = trainX.reshape((trainX.shape[0], 28, 28, 1))\n",
        "\ttestX = testX.reshape((testX.shape[0], 28, 28, 1))\n",
        "\t# one hot encode target values\n",
        "\ttrainY = to_categorical(trainY)\n",
        "\ttestY = to_categorical(testY)\n",
        "\treturn trainX, trainY, testX, testY"
      ],
      "metadata": {
        "id": "vrG792F5IA0B"
      },
      "execution_count": 39,
      "outputs": []
    },
    {
      "cell_type": "markdown",
      "source": [
        "In grey scale, pixels go from 0 - 255 in value. We want this to be between 0 - 1 --> Normalise!"
      ],
      "metadata": {
        "id": "tCtjif_sJgPi"
      }
    },
    {
      "cell_type": "code",
      "source": [
        "# scale pixels\n",
        "def prep_pixels(train, test):\n",
        "\t# normalize to range 0-1\n",
        "\ttrain_norm = train / 255.0\n",
        "\ttest_norm = test / 255.0\n",
        "\t# return normalized images\n",
        "\treturn train_norm, test_norm"
      ],
      "metadata": {
        "id": "Tddns8z2JWbZ"
      },
      "execution_count": 40,
      "outputs": []
    },
    {
      "cell_type": "markdown",
      "source": [
        "### Write the CNN\n",
        "To define the input layer we need to know the filter size, how many filters we wish to use, which activation function, which kernel, and what the input shape is. \n",
        "To start, we will use the following:\n",
        "* **relu activation function**: if the input is > 0, the relu function returns the input, otherwise 0 is returned. \"The main reason why ReLu is used is because it is simple, fast, and empirically it seems to work well. Empirically, early papers observed that training a deep network with ReLu tended to converge much more quickly and reliably than training a deep network with sigmoid activation\"\n",
        "* **he_uniform kernel**: It draws samples from a truncated normal distribution centered on 0 with stddev = sqrt(2 / fan_in) where fan_in is the number of input units in the weight tensor\n",
        "* **Filter size**: (3X3)\n",
        "* **Number of filters**: 32 (kind of related to the number of features you wish to spot)\n",
        "\n",
        "The input shape is known and has been determined above\n",
        "\n",
        "A good resource for trying to understand visually what is going on can be found [here](https://www.kaggle.com/amarjeet007/visualize-cnn-with-keras)\n",
        "\n",
        "____"
      ],
      "metadata": {
        "id": "WZaNtzFTKHkr"
      }
    },
    {
      "cell_type": "code",
      "source": [
        "# define cnn model\n",
        "def define_model():\n",
        "\tmodel = Sequential()\n",
        "  # kernel initializer describes how we add weights to each kernel. i.e the 3x3 pixel box we move around the 2d image\n",
        "\tmodel.add(Conv2D(32, (3, 3), activation='relu', kernel_initializer='he_uniform', input_shape=(28, 28, 1)))\n",
        "  # max pooling. Take the maximum pixel value in the kernel\n",
        "\tmodel.add(MaxPooling2D((2, 2)))\n",
        "  # flatten your input to 1D so you can produce a Dense layer (classifier layer). A Dense layer means that all neurons in this layer \n",
        "\t# grab the information from all neurons in the previous layer.\n",
        "\tmodel.add(Flatten())\n",
        "  # dense layer with 100 nodes\n",
        "\tmodel.add(Dense(100, activation='relu', kernel_initializer='he_uniform'))\n",
        "  # dense layer with 10 nodes --> since we have 10 classifications 0 - 9\n",
        "\t# The softmax function is used as the activation function in the output layer of neural network models that predict a multinomial probability distribution\n",
        "\tmodel.add(Dense(10, activation='softmax'))\n",
        "\t# compile model\n",
        "\topt = SGD(learning_rate=0.01, momentum=0.9)\n",
        "\tmodel.compile(optimizer=opt, loss='categorical_crossentropy', metrics=['accuracy'])\n",
        "\treturn model"
      ],
      "metadata": {
        "id": "TEhBBs9CJ52C"
      },
      "execution_count": 41,
      "outputs": []
    },
    {
      "cell_type": "markdown",
      "source": [
        "### Evaluate the model using **k-fold cross validation**\n",
        "This process allows us to evaluate the model using different combinations of data for the training and test splitting. This gives us a better idea of how well our model performs"
      ],
      "metadata": {
        "id": "RY77Kkj5avkQ"
      }
    },
    {
      "cell_type": "code",
      "source": [
        "# evaluate a model using k-fold cross-validation\n",
        "def evaluate_model(dataX, dataY, n_folds=5):\n",
        "\tscores, histories = list(), list()\n",
        "\t# prepare cross validation\n",
        "\tkfold = KFold(n_folds, shuffle=True, random_state=1)\n",
        "\t# enumerate splits\n",
        "\tfor train_ix, test_ix in kfold.split(dataX):\n",
        "\t\t# define model\n",
        "\t\tmodel = define_model()\n",
        "\t\t# select rows for train and test\n",
        "\t\ttrainX, trainY, testX, testY = dataX[train_ix], dataY[train_ix], dataX[test_ix], dataY[test_ix]\n",
        "\t\t# fit model\n",
        "\t\thistory = model.fit(trainX, trainY, epochs=10, batch_size=64, validation_data=(testX, testY), verbose=0)\n",
        "\t\t# evaluate model\n",
        "\t\t_, acc = model.evaluate(testX, testY, verbose=0)\n",
        "\t\tprint('> %.3f' % (acc * 100.0))\n",
        "\t\t# stores scores\n",
        "\t\tscores.append(acc)\n",
        "\t\thistories.append(history)\n",
        "\treturn scores, histories"
      ],
      "metadata": {
        "id": "jXGGJ5hQKTrZ"
      },
      "execution_count": 119,
      "outputs": []
    },
    {
      "cell_type": "markdown",
      "source": [
        "How does well does it perform using this current architecture? "
      ],
      "metadata": {
        "id": "pF68EnHPdpgc"
      }
    },
    {
      "cell_type": "code",
      "source": [
        "# load dataset\n",
        "trainX, trainY, testX, testY = load_dataset()\n",
        "# prepare pixel data\n",
        "trainX, testX = prep_pixels(trainX, testX)\n",
        "# evaluate model\n",
        "scores, histories = evaluate_model(trainX, trainY)\n"
      ],
      "metadata": {
        "id": "EX1xXjPeatdt",
        "outputId": "af1bcc55-c9e9-4aed-c497-471d9e003e82",
        "colab": {
          "base_uri": "https://localhost:8080/"
        }
      },
      "execution_count": 120,
      "outputs": [
        {
          "output_type": "stream",
          "name": "stdout",
          "text": [
            "> 98.533\n",
            "> 98.608\n",
            "> 98.583\n",
            "> 98.825\n",
            "> 98.517\n"
          ]
        }
      ]
    },
    {
      "cell_type": "markdown",
      "source": [
        "This is great, on average we see about 98.5% success rate with a very small variance. This also tells us that our model is general enough to work across the entire dataset and there are no anomalous images\n",
        "\n",
        "Now we should plot our loss and accuracy as a function of epoch and k-fold (for both the training and test data)"
      ],
      "metadata": {
        "id": "kpVTOWf3dxvt"
      }
    },
    {
      "cell_type": "code",
      "source": [
        "def plot_results(scores, histories):\n",
        "  fig = plt.figure(figsize=(8,5))\n",
        "  gs = fig.add_gridspec(2,2)\n",
        "  ax1 = fig.add_subplot(gs[0, 0])\n",
        "  ax2 = fig.add_subplot(gs[1, 0])\n",
        "  ax3 = fig.add_subplot(gs[:, 1])\n",
        "  for i in range(len(histories)):\n",
        "    ax3.title.set_text('Box plot')\n",
        "    ax3.boxplot(scores)\n",
        "    ax1.title.set_text('Cross Entropy Loss')\n",
        "    ax1.plot(histories[i].history['loss'], color='blue', label='train')\n",
        "    ax1.plot(histories[i].history['val_loss'], color='orange', label='test')\n",
        "    ax2.title.set_text('Classification Accuracy')\n",
        "    ax2.plot(histories[i].history['accuracy'], color='blue', label='train')\n",
        "    ax2.plot(histories[i].history['val_accuracy'], color='orange', label='test')\n",
        "\n",
        "  plt.subplots_adjust(left=0.1,\n",
        "                      bottom=0.1, \n",
        "                      right=0.9, \n",
        "                      top=0.9, \n",
        "                      wspace=0.4, \n",
        "                      hspace=0.4)\n"
      ],
      "metadata": {
        "id": "KqkrxaUBcSKM"
      },
      "execution_count": 46,
      "outputs": []
    },
    {
      "cell_type": "code",
      "source": [
        "plot_results(scores, histories)"
      ],
      "metadata": {
        "id": "HCYGmT4PwnXi",
        "outputId": "7c04ffbb-67ff-4f64-de70-20aac0121c04",
        "colab": {
          "base_uri": "https://localhost:8080/",
          "height": 351
        }
      },
      "execution_count": 47,
      "outputs": [
        {
          "output_type": "display_data",
          "data": {
            "image/png": "[encoded data removed]",
            "text/plain": [
              "<Figure size 576x360 with 3 Axes>"
            ]
          },
          "metadata": {}
        }
      ]
    },
    {
      "cell_type": "markdown",
      "source": [
        "When you see the train and test loss flatten as a function of epoch, this is a good sign that you have selected a good number of epochs as you start to see no improvement. If the loss were to start to increase, this would be a sign of overfitting.\n",
        "\n",
        "\n"
      ],
      "metadata": {
        "id": "qbJmteT0f7i8"
      }
    },
    {
      "cell_type": "markdown",
      "source": [
        "### Can we do better?\n",
        "Now we can work on improving this model by tweaking the following \n",
        "\n",
        "* **Tune Pixel Scaling**. Explore how alternate pixel scaling methods impact model performance as compared to the baseline model, including centering and standardization.\n",
        "* **Tune the Learning Rate**. Explore how different learning rates impact the model performance as compared to the baseline model, such as 0.001 and 0.0001.\n",
        "* **Tune Model Depth**. Explore how adding more layers to the model impact the model performance as compared to the baseline model, such as another block of convolutional and pooling layers or another dense layer in the classifier part of the model."
      ],
      "metadata": {
        "id": "JNAtkBZvgnA0"
      }
    },
    {
      "cell_type": "markdown",
      "source": [
        "#### 1. Pixel Scaling\n",
        "\n",
        "1.1 Try normalising pixels using ImageDataGenerator. This should be the same as before!"
      ],
      "metadata": {
        "id": "msJFvyPfxPf0"
      }
    },
    {
      "cell_type": "code",
      "source": [
        "trainX, trainY, testX, testY = load_dataset()\n",
        "print('Train min=%.3f, max=%.3f' % (trainX.min(), trainX.max()))\n",
        "print('Test min=%.3f, max=%.3f' % (testX.min(), testX.max()))\n",
        "# create generator (1.0/255.0 = 0.003921568627451)\n",
        "datagen = ImageDataGenerator(rescale=1.0/255.0)\n",
        "# prepare an iterators to scale images\n",
        "train_iterator = datagen.flow(trainX, trainY,batch_size=64)\n",
        "test_iterator = datagen.flow(testX, testY,batch_size=64)\n",
        "print('Batches train=%d, test=%d' % (len(train_iterator), len(test_iterator)))\n",
        "# confirm the scaling works\n",
        "batchX, batchy = train_iterator.next()\n",
        "print('Batch shape=%s, min=%.3f, max=%.3f' % (batchX.shape, batchX.min(), batchX.max()))\n",
        "# define model\n",
        "model = define_model()\n",
        "# compile model\n",
        "model.compile(optimizer='adam', loss='categorical_crossentropy', metrics=['accuracy'])\n",
        "# fit model with generator\n",
        "model.fit(train_iterator, steps_per_epoch=len(train_iterator), epochs=5)\n",
        "# evaluate model\n",
        "_, acc = model.evaluate_generator(test_iterator, steps=len(test_iterator), verbose=0)\n",
        "print('Test Accuracy: %.3f' % (acc * 100))"
      ],
      "metadata": {
        "id": "iOzCnL0-eQTm",
        "outputId": "bf75f406-2a9e-44a0-f195-432b5f511867",
        "colab": {
          "base_uri": "https://localhost:8080/"
        }
      },
      "execution_count": 70,
      "outputs": [
        {
          "output_type": "stream",
          "name": "stdout",
          "text": [
            "Train min=0.000, max=255.000\n",
            "Test min=0.000, max=255.000\n",
            "Batches train=938, test=157\n",
            "Batch shape=(64, 28, 28, 1), min=0.000, max=1.000\n",
            "Epoch 1/5\n",
            "938/938 [==============================] - 4s 4ms/step - loss: 0.1497 - accuracy: 0.9550\n",
            "Epoch 2/5\n",
            "938/938 [==============================] - 4s 4ms/step - loss: 0.0481 - accuracy: 0.9855\n",
            "Epoch 3/5\n",
            "938/938 [==============================] - 4s 4ms/step - loss: 0.0291 - accuracy: 0.9909\n",
            "Epoch 4/5\n",
            "938/938 [==============================] - 4s 4ms/step - loss: 0.0177 - accuracy: 0.9945\n",
            "Epoch 5/5\n",
            "938/938 [==============================] - 4s 4ms/step - loss: 0.0122 - accuracy: 0.9961\n"
          ]
        },
        {
          "output_type": "stream",
          "name": "stderr",
          "text": [
            "/usr/local/lib/python3.7/dist-packages/ipykernel_launcher.py:20: UserWarning: `Model.evaluate_generator` is deprecated and will be removed in a future version. Please use `Model.evaluate`, which supports generators.\n"
          ]
        },
        {
          "output_type": "stream",
          "name": "stdout",
          "text": [
            "Test Accuracy: 98.490\n"
          ]
        }
      ]
    },
    {
      "cell_type": "markdown",
      "source": [
        "1.2 Try standardising the pixels"
      ],
      "metadata": {
        "id": "aDkeoIRY27Ms"
      }
    },
    {
      "cell_type": "code",
      "source": [
        "datagen = ImageDataGenerator(featurewise_center=True, featurewise_std_normalization=True)\n",
        "# calculate mean on training dataset\n",
        "datagen.fit(trainX)\n",
        "train_iterator = datagen.flow(trainX, trainY,batch_size=64)\n",
        "test_iterator = datagen.flow(testX, testY,batch_size=64)\n",
        "print('Batches train=%d, test=%d' % (len(train_iterator), len(test_iterator)))\n",
        "# confirm the scaling works\n",
        "batchX, batchy = train_iterator.next()\n",
        "print('Batch shape=%s, min=%.3f, max=%.3f' % (batchX.shape, batchX.min(), batchX.max()))\n",
        "# define model\n",
        "model = define_model()\n",
        "# compile model\n",
        "model.compile(optimizer='adam', loss='categorical_crossentropy', metrics=['accuracy'])\n",
        "# fit model with generator\n",
        "model.fit(train_iterator, steps_per_epoch=len(train_iterator), epochs=5)\n",
        "# evaluate model\n",
        "_, acc = model.evaluate_generator(test_iterator, steps=len(test_iterator), verbose=0)\n",
        "print('Test Accuracy: %.3f' % (acc * 100))"
      ],
      "metadata": {
        "id": "nLqImRJ73Daw",
        "outputId": "cac150f9-a2e3-4b99-a3e0-b915a97a4806",
        "colab": {
          "base_uri": "https://localhost:8080/"
        }
      },
      "execution_count": 71,
      "outputs": [
        {
          "output_type": "stream",
          "name": "stdout",
          "text": [
            "Batches train=938, test=157\n",
            "Batch shape=(64, 28, 28, 1), min=-0.424, max=2.822\n",
            "Epoch 1/5\n",
            "938/938 [==============================] - 5s 4ms/step - loss: 0.2059 - accuracy: 0.9376\n",
            "Epoch 2/5\n",
            "938/938 [==============================] - 4s 5ms/step - loss: 0.0720 - accuracy: 0.9780\n",
            "Epoch 3/5\n",
            "938/938 [==============================] - 4s 5ms/step - loss: 0.0523 - accuracy: 0.9837\n",
            "Epoch 4/5\n",
            "938/938 [==============================] - 4s 5ms/step - loss: 0.0378 - accuracy: 0.9882\n",
            "Epoch 5/5\n",
            "938/938 [==============================] - 4s 5ms/step - loss: 0.0323 - accuracy: 0.9898\n"
          ]
        },
        {
          "output_type": "stream",
          "name": "stderr",
          "text": [
            "/usr/local/lib/python3.7/dist-packages/ipykernel_launcher.py:17: UserWarning: `Model.evaluate_generator` is deprecated and will be removed in a future version. Please use `Model.evaluate`, which supports generators.\n"
          ]
        },
        {
          "output_type": "stream",
          "name": "stdout",
          "text": [
            "Test Accuracy: 98.010\n"
          ]
        }
      ]
    },
    {
      "cell_type": "markdown",
      "source": [
        "1.3 Try centering the pixels\n"
      ],
      "metadata": {
        "id": "nFoQBrAw27Ui"
      }
    },
    {
      "cell_type": "code",
      "source": [
        "datagen = ImageDataGenerator(featurewise_center=True)\n",
        "# calculate mean on training dataset\n",
        "datagen.fit(trainX)\n",
        "train_iterator = datagen.flow(trainX, trainY,batch_size=64)\n",
        "test_iterator = datagen.flow(testX, testY,batch_size=64)\n",
        "print('Batches train=%d, test=%d' % (len(train_iterator), len(test_iterator)))\n",
        "# confirm the scaling works\n",
        "batchX, batchy = train_iterator.next()\n",
        "print('Batch shape=%s, min=%.3f, max=%.3f' % (batchX.shape, batchX.min(), batchX.max()))\n",
        "# define model\n",
        "model = define_model()\n",
        "# compile model\n",
        "model.compile(optimizer='adam', loss='categorical_crossentropy', metrics=['accuracy'])\n",
        "# fit model with generator\n",
        "model.fit(train_iterator, steps_per_epoch=len(train_iterator), epochs=5)\n",
        "# evaluate model\n",
        "_, acc = model.evaluate_generator(test_iterator, steps=len(test_iterator), verbose=0)\n",
        "print('Test Accuracy: %.3f' % (acc * 100))"
      ],
      "metadata": {
        "id": "f4T-HkxdyPau",
        "outputId": "127b40a9-e7e2-4589-f9bc-2fc07ddf39ee",
        "colab": {
          "base_uri": "https://localhost:8080/"
        }
      },
      "execution_count": 72,
      "outputs": [
        {
          "output_type": "stream",
          "name": "stdout",
          "text": [
            "Batches train=938, test=157\n",
            "Batch shape=(64, 28, 28, 1), min=-33.318, max=221.682\n",
            "Epoch 1/5\n",
            "938/938 [==============================] - 5s 4ms/step - loss: 5.5086 - accuracy: 0.7643\n",
            "Epoch 2/5\n",
            "938/938 [==============================] - 4s 4ms/step - loss: 0.5960 - accuracy: 0.8349\n",
            "Epoch 3/5\n",
            "938/938 [==============================] - 4s 4ms/step - loss: 0.4611 - accuracy: 0.8753\n",
            "Epoch 4/5\n",
            "938/938 [==============================] - 4s 4ms/step - loss: 0.3907 - accuracy: 0.8982\n",
            "Epoch 5/5\n",
            "938/938 [==============================] - 4s 4ms/step - loss: 0.3123 - accuracy: 0.9148\n"
          ]
        },
        {
          "output_type": "stream",
          "name": "stderr",
          "text": [
            "/usr/local/lib/python3.7/dist-packages/ipykernel_launcher.py:17: UserWarning: `Model.evaluate_generator` is deprecated and will be removed in a future version. Please use `Model.evaluate`, which supports generators.\n"
          ]
        },
        {
          "output_type": "stream",
          "name": "stdout",
          "text": [
            "Test Accuracy: 92.610\n"
          ]
        }
      ]
    },
    {
      "cell_type": "markdown",
      "source": [
        "Okay, we now know that for this particular problem, normalising the pixels produces the best results"
      ],
      "metadata": {
        "id": "UWvIQL7Y37mH"
      }
    },
    {
      "cell_type": "markdown",
      "source": [
        "#### 2. Tune the learning rate\n",
        "\n",
        "We can define our own exponential learning rate curve to approach the minimum faster"
      ],
      "metadata": {
        "id": "sUuUmR3g4MlQ"
      }
    },
    {
      "cell_type": "code",
      "source": [
        "epochs = 10\n",
        "learning_rate = 0.01 # initial learning rate\n",
        "decay_rate = 0.1\n",
        "momentum = 0.9\n",
        "batchsize = 64\n",
        "\n",
        "sgd = SGD(learning_rate=learning_rate, momentum=momentum, decay=decay_rate, nesterov=False)\n",
        "\n",
        "model = define_model()\n",
        "model.compile(loss='categorical_crossentropy', \n",
        "                                optimizer=sgd, \n",
        "                                metrics=['accuracy'])\n",
        "# define the learning rate change \n",
        "def exp_decay(epoch):\n",
        "    lrate = learning_rate * np.exp(-decay_rate*epoch)\n",
        "    return lrate\n",
        "\n",
        "loss_history = History()\n",
        "\n",
        "lr_rate = LearningRateScheduler(exp_decay)\n",
        "callbacks_list = [loss_history, lr_rate]\n",
        "\n",
        "history_lr = model.fit(trainX, trainY, epochs=epochs, batch_size=batchsize, validation_data=(testX, testY), verbose=1, callbacks=callbacks_list)\n",
        "_, acc     = model.evaluate(testX, testY, verbose=0)"
      ],
      "metadata": {
        "id": "gRDhLhrn4Q9c",
        "outputId": "2cfb5984-1bb0-42b1-8e5f-0be91b7f5987",
        "colab": {
          "base_uri": "https://localhost:8080/"
        }
      },
      "execution_count": 124,
      "outputs": [
        {
          "output_type": "stream",
          "name": "stdout",
          "text": [
            "Epoch 1/10\n",
            "938/938 [==============================] - 4s 4ms/step - loss: 0.3625 - accuracy: 0.8950 - val_loss: 0.2924 - val_accuracy: 0.9192 - lr: 0.0100\n",
            "Epoch 2/10\n",
            "938/938 [==============================] - 3s 4ms/step - loss: 0.3010 - accuracy: 0.9143 - val_loss: 0.2808 - val_accuracy: 0.9216 - lr: 0.0090\n",
            "Epoch 3/10\n",
            "938/938 [==============================] - 4s 4ms/step - loss: 0.2921 - accuracy: 0.9170 - val_loss: 0.2754 - val_accuracy: 0.9237 - lr: 0.0082\n",
            "Epoch 4/10\n",
            "938/938 [==============================] - 3s 4ms/step - loss: 0.2874 - accuracy: 0.9185 - val_loss: 0.2720 - val_accuracy: 0.9244 - lr: 0.0074\n",
            "Epoch 5/10\n",
            "938/938 [==============================] - 4s 4ms/step - loss: 0.2844 - accuracy: 0.9195 - val_loss: 0.2699 - val_accuracy: 0.9253 - lr: 0.0067\n",
            "Epoch 6/10\n",
            "938/938 [==============================] - 4s 4ms/step - loss: 0.2823 - accuracy: 0.9203 - val_loss: 0.2684 - val_accuracy: 0.9257 - lr: 0.0061\n",
            "Epoch 7/10\n",
            "938/938 [==============================] - 4s 4ms/step - loss: 0.2807 - accuracy: 0.9207 - val_loss: 0.2670 - val_accuracy: 0.9263 - lr: 0.0055\n",
            "Epoch 8/10\n",
            "938/938 [==============================] - 4s 4ms/step - loss: 0.2796 - accuracy: 0.9211 - val_loss: 0.2661 - val_accuracy: 0.9265 - lr: 0.0050\n",
            "Epoch 9/10\n",
            "938/938 [==============================] - 3s 4ms/step - loss: 0.2786 - accuracy: 0.9211 - val_loss: 0.2654 - val_accuracy: 0.9271 - lr: 0.0045\n",
            "Epoch 10/10\n",
            "938/938 [==============================] - 3s 4ms/step - loss: 0.2779 - accuracy: 0.9215 - val_loss: 0.2648 - val_accuracy: 0.9273 - lr: 0.0041\n"
          ]
        }
      ]
    },
    {
      "cell_type": "code",
      "source": [
        "epochs = 10\n",
        "learning_rate = 0.1 # initial learning rate\n",
        "decay_rate = 0.1\n",
        "momentum = 0.9\n",
        "batchsize = 32\n",
        "\n",
        "sgd = SGD(learning_rate=learning_rate, momentum=momentum, decay=decay_rate, nesterov=False)\n",
        "\n",
        "model = define_model()\n",
        "model.compile(loss='categorical_crossentropy', \n",
        "                                optimizer=sgd, \n",
        "                                metrics=['accuracy'])\n",
        "# define the learning rate change \n",
        "def exp_decay(epoch):\n",
        "    lrate = learning_rate * np.exp(-decay_rate*epoch)\n",
        "    return lrate\n",
        "\n",
        "loss_history = History()\n",
        "\n",
        "lr_rate = LearningRateScheduler(exp_decay)\n",
        "callbacks_list = [loss_history, lr_rate]\n",
        "\n",
        "history_lr = model.fit(trainX, trainY, epochs=epochs, batch_size=batchsize, validation_data=(testX, testY), verbose=1)#, callbacks=callbacks_list)\n",
        "_, acc     = model.evaluate(testX, testY, verbose=0)"
      ],
      "metadata": {
        "id": "fJKKyemP6W_m",
        "outputId": "6b6e677d-8a23-484a-b6e3-f9e70abaeff5",
        "colab": {
          "base_uri": "https://localhost:8080/"
        }
      },
      "execution_count": null,
      "outputs": [
        {
          "output_type": "stream",
          "name": "stdout",
          "text": [
            "Epoch 1/10\n",
            "1875/1875 [==============================] - 7s 4ms/step - loss: 0.2028 - accuracy: 0.9402 - val_loss: 0.1277 - val_accuracy: 0.9629\n",
            "Epoch 2/10\n",
            "1875/1875 [==============================] - 6s 3ms/step - loss: 0.1269 - accuracy: 0.9635 - val_loss: 0.1144 - val_accuracy: 0.9667\n",
            "Epoch 3/10\n",
            "1875/1875 [==============================] - 6s 3ms/step - loss: 0.1166 - accuracy: 0.9665 - val_loss: 0.1082 - val_accuracy: 0.9680\n",
            "Epoch 4/10\n",
            "1875/1875 [==============================] - 6s 3ms/step - loss: 0.1110 - accuracy: 0.9686 - val_loss: 0.1048 - val_accuracy: 0.9699\n",
            "Epoch 5/10\n",
            "1875/1875 [==============================] - 6s 3ms/step - loss: 0.1073 - accuracy: 0.9696 - val_loss: 0.1018 - val_accuracy: 0.9708\n",
            "Epoch 6/10\n",
            "1875/1875 [==============================] - 6s 3ms/step - loss: 0.1045 - accuracy: 0.9705 - val_loss: 0.0999 - val_accuracy: 0.9714\n",
            "Epoch 7/10\n",
            "1310/1875 [===================>..........] - ETA: 1s - loss: 0.1043 - accuracy: 0.9704"
          ]
        }
      ]
    },
    {
      "cell_type": "code",
      "source": [
        ""
      ],
      "metadata": {
        "id": "p9g8KK4M70s6"
      },
      "execution_count": null,
      "outputs": []
    }
  ]
}