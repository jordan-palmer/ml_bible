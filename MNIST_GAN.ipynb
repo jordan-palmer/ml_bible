{
  "nbformat": 4,
  "nbformat_minor": 0,
  "metadata": {
    "colab": {
      "name": "MNIST_GAN.ipynb",
      "provenance": [],
      "collapsed_sections": [],
      "authorship_tag": "ABX9TyMubkFsLHD2/1TmMenLgxNW",
      "include_colab_link": true
    },
    "kernelspec": {
      "name": "python3",
      "display_name": "Python 3"
    },
    "language_info": {
      "name": "python"
    }
  },
  "cells": [
    {
      "cell_type": "markdown",
      "metadata": {
        "id": "view-in-github",
        "colab_type": "text"
      },
      "source": [
        "<a href=\"https://colab.research.google.com/github/jordan-palmer/ml_bible/blob/main/MNIST_GAN.ipynb\" target=\"_parent\"><img src=\"https://colab.research.google.com/assets/colab-badge.svg\" alt=\"Open In Colab\"/></a>"
      ]
    },
    {
      "cell_type": "markdown",
      "source": [
        "# 2. Generative Adversarial Network"
      ],
      "metadata": {
        "id": "gPQ9xag68M5c"
      }
    },
    {
      "cell_type": "markdown",
      "source": [
        "We have already seen how to use a CNN to efficiently classify the MNIST dataset in notebook (1). However, even though CNNs can identify images well, they cannot draw them! In walks GANs...\n",
        "\n",
        "Generative Adversarial Networks, or GANs, are an architecture for training generative models, such as deep convolutional neural networks for generating images. \n",
        "\n",
        "Developing a GAN for generating images requires both a discriminator convolutional neural network model for classifying whether a given image is real or generated and a generator model that uses inverse convolutional layers to transform an input to a full two-dimensional image of pixel values.\n",
        "\n",
        "* The **generator** learns to generate plausible data. The generated instances become negative training examples for the discriminator.\n",
        "\n",
        "* The **discriminator** learns to distinguish the generator's fake data from real data. The discriminator penalizes the generator for producing implausible results.\n",
        "\n",
        "\n",
        "![image](https://developers.google.com/machine-learning/gan/images/gan_diagram.svg)"
      ],
      "metadata": {
        "id": "e7RrmNxY9FQQ"
      }
    },
    {
      "cell_type": "code",
      "execution_count": null,
      "metadata": {
        "id": "lYH4OReQ8CeK"
      },
      "outputs": [],
      "source": [
        ""
      ]
    }
  ]
}